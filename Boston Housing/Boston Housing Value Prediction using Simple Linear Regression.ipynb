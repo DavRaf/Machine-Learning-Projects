{
 "cells": [
  {
   "cell_type": "code",
   "execution_count": 1,
   "metadata": {},
   "outputs": [],
   "source": [
    "# import the necessary packages\n",
    "import pandas as pd\n",
    "import numpy as np"
   ]
  },
  {
   "cell_type": "code",
   "execution_count": 8,
   "metadata": {},
   "outputs": [
    {
     "data": {
      "text/html": [
       "<div>\n",
       "<style scoped>\n",
       "    .dataframe tbody tr th:only-of-type {\n",
       "        vertical-align: middle;\n",
       "    }\n",
       "\n",
       "    .dataframe tbody tr th {\n",
       "        vertical-align: top;\n",
       "    }\n",
       "\n",
       "    .dataframe thead th {\n",
       "        text-align: right;\n",
       "    }\n",
       "</style>\n",
       "<table border=\"1\" class=\"dataframe\">\n",
       "  <thead>\n",
       "    <tr style=\"text-align: right;\">\n",
       "      <th></th>\n",
       "      <th>NumberOfRooms</th>\n",
       "      <th>AverageValue</th>\n",
       "    </tr>\n",
       "  </thead>\n",
       "  <tbody>\n",
       "    <tr>\n",
       "      <th>0</th>\n",
       "      <td>6.575</td>\n",
       "      <td>24.0</td>\n",
       "    </tr>\n",
       "    <tr>\n",
       "      <th>1</th>\n",
       "      <td>6.421</td>\n",
       "      <td>21.6</td>\n",
       "    </tr>\n",
       "    <tr>\n",
       "      <th>2</th>\n",
       "      <td>7.185</td>\n",
       "      <td>34.7</td>\n",
       "    </tr>\n",
       "    <tr>\n",
       "      <th>3</th>\n",
       "      <td>6.998</td>\n",
       "      <td>33.4</td>\n",
       "    </tr>\n",
       "    <tr>\n",
       "      <th>4</th>\n",
       "      <td>7.147</td>\n",
       "      <td>36.2</td>\n",
       "    </tr>\n",
       "  </tbody>\n",
       "</table>\n",
       "</div>"
      ],
      "text/plain": [
       "   NumberOfRooms  AverageValue\n",
       "0          6.575          24.0\n",
       "1          6.421          21.6\n",
       "2          7.185          34.7\n",
       "3          6.998          33.4\n",
       "4          7.147          36.2"
      ]
     },
     "execution_count": 8,
     "metadata": {},
     "output_type": "execute_result"
    }
   ],
   "source": [
    "# import the dataset\n",
    "boston = pd.read_csv(\"https://archive.ics.uci.edu/ml/machine-learning-databases/housing/housing.data\", sep='\\s+', usecols=[5,13], names=[\"NumberOfRooms\", \"AverageValue\"])\n",
    "boston.head()"
   ]
  },
  {
   "cell_type": "code",
   "execution_count": 42,
   "metadata": {},
   "outputs": [],
   "source": [
    "# split the data into the X features and the y target\n",
    "X = boston.drop(\"AverageValue\", axis=1).values\n",
    "y = boston[\"AverageValue\"].values\n",
    "\n",
    "#split the data into train set and test set\n",
    "from sklearn.model_selection import train_test_split\n",
    "X_train, X_test, y_train, y_test = train_test_split(X, y, test_size=0.3)"
   ]
  },
  {
   "cell_type": "code",
   "execution_count": 43,
   "metadata": {},
   "outputs": [
    {
     "name": "stdout",
     "output_type": "stream",
     "text": [
      "[[6.333]\n",
      " [8.704]\n",
      " [6.77 ]\n",
      " [6.421]\n",
      " [6.144]\n",
      " [7.185]\n",
      " [6.976]\n",
      " [6.376]\n",
      " [6.951]\n",
      " [6.086]\n",
      " [5.57 ]\n",
      " [6.431]\n",
      " [6.982]\n",
      " [6.051]\n",
      " [6.286]\n",
      " [6.718]\n",
      " [5.856]\n",
      " [5.966]\n",
      " [7.185]\n",
      " [6.209]\n",
      " [6.487]\n",
      " [6.169]\n",
      " [5.186]\n",
      " [6.998]\n",
      " [5.67 ]\n",
      " [6.579]\n",
      " [6.23 ]\n",
      " [6.495]\n",
      " [7.358]\n",
      " [7.107]\n",
      " [5.404]\n",
      " [6.251]\n",
      " [5.787]\n",
      " [6.389]\n",
      " [7.42 ]\n",
      " [5.936]\n",
      " [5.604]\n",
      " [6.122]\n",
      " [5.617]\n",
      " [4.88 ]\n",
      " [5.957]\n",
      " [3.561]\n",
      " [5.627]\n",
      " [6.108]\n",
      " [8.725]\n",
      " [5.782]\n",
      " [6.852]\n",
      " [6.167]\n",
      " [7.147]\n",
      " [7.82 ]\n",
      " [6.312]\n",
      " [6.12 ]\n",
      " [6.004]\n",
      " [6.471]\n",
      " [6.142]\n",
      " [6.29 ]\n",
      " [7.929]\n",
      " [7.274]\n",
      " [5.741]\n",
      " [6.629]\n",
      " [7.831]\n",
      " [5.747]\n",
      " [6.484]\n",
      " [6.715]\n",
      " [6.081]\n",
      " [6.129]\n",
      " [7.236]\n",
      " [6.552]\n",
      " [6.373]\n",
      " [7.82 ]\n",
      " [5.012]\n",
      " [6.345]\n",
      " [6.434]\n",
      " [6.416]\n",
      " [5.856]\n",
      " [5.807]\n",
      " [5.531]\n",
      " [5.453]\n",
      " [5.683]\n",
      " [6.226]\n",
      " [6.315]\n",
      " [5.277]\n",
      " [7.061]\n",
      " [6.826]\n",
      " [6.211]\n",
      " [6.004]\n",
      " [6.114]\n",
      " [6.031]\n",
      " [7.333]\n",
      " [4.519]\n",
      " [7.645]\n",
      " [5.986]\n",
      " [6.185]\n",
      " [6.009]\n",
      " [6.393]\n",
      " [6.003]\n",
      " [6.63 ]\n",
      " [5.713]\n",
      " [5.987]\n",
      " [5.888]\n",
      " [5.344]\n",
      " [6.112]\n",
      " [6.405]\n",
      " [6.115]\n",
      " [6.167]\n",
      " [6.635]\n",
      " [6.38 ]\n",
      " [5.961]\n",
      " [6.426]\n",
      " [5.813]\n",
      " [5.757]\n",
      " [5.968]\n",
      " [5.854]\n",
      " [5.876]\n",
      " [5.631]\n",
      " [5.593]\n",
      " [5.857]\n",
      " [6.98 ]\n",
      " [6.185]\n",
      " [6.458]\n",
      " [6.343]\n",
      " [6.027]\n",
      " [5.79 ]\n",
      " [7.853]\n",
      " [7.267]\n",
      " [6.642]\n",
      " [6.727]\n",
      " [5.854]\n",
      " [5.837]\n",
      " [6.03 ]\n",
      " [6.495]\n",
      " [6.245]\n",
      " [5.693]\n",
      " [5.713]\n",
      " [5.705]\n",
      " [5.155]\n",
      " [5.803]\n",
      " [8.069]\n",
      " [5.965]\n",
      " [5.96 ]\n",
      " [6.565]\n",
      " [6.096]\n",
      " [6.31 ]\n",
      " [6.874]\n",
      " [7.686]\n",
      " [6.101]\n",
      " [5.403]\n",
      " [6.8  ]\n",
      " [6.854]\n",
      " [7.327]\n",
      " [6.824]\n",
      " [6.59 ]]\n"
     ]
    }
   ],
   "source": [
    "# create and train the model, then predict some data\n",
    "from sklearn.linear_model import LinearRegression\n",
    "\n",
    "regressor = LinearRegression()\n",
    "regressor.fit(X_train, y_train)\n",
    "y_pred = regressor.predict(X_test)\n",
    "print(X_test)"
   ]
  },
  {
   "cell_type": "code",
   "execution_count": 44,
   "metadata": {},
   "outputs": [
    {
     "name": "stdout",
     "output_type": "stream",
     "text": [
      "37.938968347518866\n",
      "0.5803494608320244\n"
     ]
    }
   ],
   "source": [
    "# get some metrics\n",
    "from sklearn.metrics import mean_squared_error\n",
    "from sklearn.metrics import r2_score\n",
    "from sklearn.metrics import confusion_matrix\n",
    "\n",
    "print(mean_squared_error(y_test, y_pred))\n",
    "print(r2_score(y_test, y_pred))"
   ]
  },
  {
   "cell_type": "code",
   "execution_count": 45,
   "metadata": {},
   "outputs": [
    {
     "name": "stdout",
     "output_type": "stream",
     "text": [
      "Coeff of NumberOfRooms: 8.643971809511777\n",
      "Bias: -31.74156347769907\n"
     ]
    },
    {
     "data": {
      "text/plain": [
       "[<matplotlib.lines.Line2D at 0x1afad50b4a8>]"
      ]
     },
     "execution_count": 45,
     "metadata": {},
     "output_type": "execute_result"
    },
    {
     "data": {
      "image/png": "[encoded data removed]",
      "text/plain": [
       "<matplotlib.figure.Figure at 0x1afad44b438>"
      ]
     },
     "metadata": {},
     "output_type": "display_data"
    }
   ],
   "source": [
    "# plot the regression line\n",
    "import matplotlib.pyplot as plt\n",
    "\n",
    "print(\"Coeff of NumberOfRooms: \" + str(regressor.coef_[0]))\n",
    "print(\"Bias: \" + str(regressor.intercept_))\n",
    "\n",
    "plt.scatter(X_train, y_train, c=\"green\",  edgecolor='white', label=\"Train set\")\n",
    "plt.scatter(X_test, y_test, c=\"blue\",  edgecolor='white', label=\"Test set\")\n",
    "\n",
    "plt.xlabel('Number of Rooms')\n",
    "plt.ylabel('Value in $1000')\n",
    "\n",
    "plt.legend(loc='upper left')\n",
    "\n",
    "plt.plot(X_test, y_pred, color='red', linewidth=3)\n",
    "\n"
   ]
  },
  {
   "cell_type": "code",
   "execution_count": 46,
   "metadata": {},
   "outputs": [
    {
     "name": "stdout",
     "output_type": "stream",
     "text": [
      "[25.09255117]\n"
     ]
    }
   ],
   "source": [
    "pred = regressor.predict(np.array([[6.575]]))\n",
    "print(pred)"
   ]
  }
 ],
 "metadata": {
  "kernelspec": {
   "display_name": "Python 3",
   "language": "python",
   "name": "python3"
  },
  "language_info": {
   "codemirror_mode": {
    "name": "ipython",
    "version": 3
   },
   "file_extension": ".py",
   "mimetype": "text/x-python",
   "name": "python",
   "nbconvert_exporter": "python",
   "pygments_lexer": "ipython3",
   "version": "3.6.4"
  }
 },
 "nbformat": 4,
 "nbformat_minor": 2
}

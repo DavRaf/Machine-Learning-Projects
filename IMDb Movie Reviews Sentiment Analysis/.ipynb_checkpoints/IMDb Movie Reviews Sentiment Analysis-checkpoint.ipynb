{
 "cells": [
  {
   "cell_type": "code",
   "execution_count": 2,
   "metadata": {},
   "outputs": [],
   "source": [
    "# load the data\n",
    "reviews_train = []\n",
    "for line in open('movie_data/full_train.txt', 'r', encoding=\"utf8\"):\n",
    "    reviews_train.append(line.strip())\n",
    "    \n",
    "reviews_test = []\n",
    "for line in open('movie_data/full_test.txt', 'r', encoding=\"utf8\"):\n",
    "    reviews_test.append(line.strip())"
   ]
  },
  {
   "cell_type": "code",
   "execution_count": 5,
   "metadata": {},
   "outputs": [],
   "source": [
    "# preprocess data\n",
    "import re\n",
    "\n",
    "REPLACE_NO_SPACE = re.compile(\"[.;:!\\'?,\\\"()\\[\\]]\")\n",
    "REPLACE_WITH_SPACE = re.compile(\"(<br\\s*/><br\\s*/>)|(\\-)|(\\/)\")\n",
    "\n",
    "def preprocess_reviews(reviews):\n",
    "    reviews = [REPLACE_NO_SPACE.sub(\"\", line.lower()) for line in reviews]\n",
    "    reviews = [REPLACE_WITH_SPACE.sub(\" \", line) for line in reviews]\n",
    "    \n",
    "    return reviews\n",
    "\n",
    "reviews_train_clean = preprocess_reviews(reviews_train)\n",
    "reviews_test_clean = preprocess_reviews(reviews_test)"
   ]
  },
  {
   "cell_type": "code",
   "execution_count": 23,
   "metadata": {},
   "outputs": [],
   "source": [
    "from nltk.corpus import stopwords\n",
    "\n",
    "english_stop_words = stopwords.words('english')\n",
    "\n",
    "def remove_stop_words(corpus):\n",
    "    removed_stop_words = []\n",
    "    for review in corpus:\n",
    "        removed_stop_words.append(' '.join([word for word in review.split()\n",
    "                                           if word not in english_stop_words]))\n",
    "    return removed_stop_words\n",
    "\n",
    "removed_stop_words = remove_stop_words(reviews_train_clean)"
   ]
  },
  {
   "cell_type": "code",
   "execution_count": 25,
   "metadata": {},
   "outputs": [],
   "source": [
    "from nltk.stem.porter import PorterStemmer\n",
    "\n",
    "def get_stemmed_text(corpus):\n",
    "    stemmer = PorterStemmer()\n",
    "    return [' '.join([stemmer.stem(word) for word in review.split()]) for review in corpus]\n",
    "\n",
    "stemmed_reviews = get_stemmed_text(reviews_train_clean)"
   ]
  },
  {
   "cell_type": "code",
   "execution_count": 27,
   "metadata": {},
   "outputs": [],
   "source": [
    "from nltk.stem import WordNetLemmatizer\n",
    "\n",
    "def get_lemmatized_text(corpus):\n",
    "    lemmatizer = WordNetLemmatizer()\n",
    "    return [' '.join([lemmatizer.lemmatize(word) for word in review.split()]) for review in corpus]\n",
    "\n",
    "lemmatized_reviews = get_lemmatized_text(reviews_train_clean)"
   ]
  },
  {
   "cell_type": "code",
   "execution_count": 36,
   "metadata": {},
   "outputs": [
    {
     "name": "stderr",
     "output_type": "stream",
     "text": [
      "C:\\Users\\David\\Anaconda3\\lib\\site-packages\\sklearn\\model_selection\\_split.py:2026: FutureWarning: From version 0.21, test_size will always complement train_size unless both are specified.\n",
      "  FutureWarning)\n"
     ]
    },
    {
     "name": "stdout",
     "output_type": "stream",
     "text": [
      "Linear Regression Accuracy for C=0.01: 0.88608\n",
      "SVM Accuracy for C=0.01: 0.89648\n",
      "Linear Regression Accuracy for C=0.05: 0.89728\n",
      "SVM Accuracy for C=0.05: 0.89328\n",
      "Linear Regression Accuracy for C=0.25: 0.89792\n",
      "SVM Accuracy for C=0.25: 0.8912\n",
      "Linear Regression Accuracy for C=0.5: 0.89712\n",
      "SVM Accuracy for C=0.5: 0.89136\n",
      "Linear Regression Accuracy for C=1: 0.89776\n",
      "SVM Accuracy for C=1: 0.89152\n"
     ]
    }
   ],
   "source": [
    "# vectorize data\n",
    "from sklearn.feature_extraction.text import CountVectorizer\n",
    "from sklearn.linear_model import LogisticRegression\n",
    "from sklearn.svm import LinearSVC\n",
    "from sklearn.metrics import accuracy_score, confusion_matrix\n",
    "from sklearn.model_selection import train_test_split\n",
    "\n",
    "n_gram_vectorizer = CountVectorizer(binary=True, ngram_range=(1, 2))\n",
    "n_gram_vectorizer.fit(reviews_train_clean)\n",
    "X = n_gram_vectorizer.transform(reviews_train_clean)\n",
    "X_test = n_gram_vectorizer.transform(reviews_test_clean)\n",
    "\n",
    "target = [1 if i < 12500 else 0 for i in range(25000)]\n",
    "\n",
    "X_train, X_val, y_train, y_val = train_test_split(\n",
    "        X, target, train_size = 0.75)\n",
    "\n",
    "for c in [0.01, 0.05, 0.25, 0.5, 1]:\n",
    "    lr = LogisticRegression(C=c)\n",
    "    svm = LinearSVC(C=c)\n",
    "    lr.fit(X_train, y_train)\n",
    "    svm.fit(X_train, y_train)\n",
    "    print(\"Linear Regression Accuracy for C={}: {}\".format(c, accuracy_score(y_val, lr.predict(X_val))))\n",
    "    print(\"SVM Accuracy for C={}: {}\".format(c, accuracy_score(y_val, svm.predict(X_val))))"
   ]
  },
  {
   "cell_type": "code",
   "execution_count": 34,
   "metadata": {},
   "outputs": [
    {
     "name": "stdout",
     "output_type": "stream",
     "text": [
      "Linear Regression Accuracy: 0.8976\n",
      "SVM Accuracy: 0.89708\n"
     ]
    }
   ],
   "source": [
    "final_lr = LogisticRegression(C=0.5)\n",
    "final_svm = LinearSVC(C=0.01)\n",
    "final_lr.fit(X, target)\n",
    "final_svm.fit(X, target)\n",
    "print(\"Linear Regression Accuracy: {}\".format(accuracy_score(target, final_lr.predict(X_test))))\n",
    "print(\"SVM Accuracy: {}\".format(accuracy_score(target, final_svm.predict(X_test))))"
   ]
  }
 ],
 "metadata": {
  "kernelspec": {
   "display_name": "Python 3",
   "language": "python",
   "name": "python3"
  },
  "language_info": {
   "codemirror_mode": {
    "name": "ipython",
    "version": 3
   },
   "file_extension": ".py",
   "mimetype": "text/x-python",
   "name": "python",
   "nbconvert_exporter": "python",
   "pygments_lexer": "ipython3",
   "version": "3.6.4"
  }
 },
 "nbformat": 4,
 "nbformat_minor": 2
}
